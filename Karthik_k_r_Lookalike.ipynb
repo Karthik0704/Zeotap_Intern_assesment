{
 "cells": [
  {
   "cell_type": "code",
   "execution_count": 17,
   "id": "6fa58738",
   "metadata": {},
   "outputs": [],
   "source": [
    "import pandas as pd\n",
    "from sklearn.metrics.pairwise import cosine_similarity\n",
    "from sklearn.preprocessing import StandardScaler\n",
    "\n",
    "customers_path = r\"C:\\Users\\karth\\Downloads\\Customers.csv\"\n",
    "products_path = r\"C:\\Users\\karth\\Downloads\\Products.csv\"\n",
    "\n",
    "customers_df = pd.read_csv(customers_path)\n",
    "products_df = pd.read_csv(products_path)\n",
    "\n"
   ]
  },
  {
   "cell_type": "code",
   "execution_count": 18,
   "id": "e818e195",
   "metadata": {},
   "outputs": [],
   "source": [
    "customers_df['SignupDate'] = pd.to_datetime(customers_df['SignupDate'])\n",
    "customers_df['SignupYear'] = customers_df['SignupDate'].dt.year\n",
    "customers_df['SignupMonth'] = customers_df['SignupDate'].dt.month\n",
    "\n",
    "customers_encoded = pd.get_dummies(customers_df[['Region', 'SignupYear', 'SignupMonth']], drop_first=True)\n",
    "\n",
    "scaler = StandardScaler()\n",
    "customers_scaled = scaler.fit_transform(customers_encoded)\n",
    "\n",
    "similarity_matrix = cosine_similarity(customers_scaled)\n",
    "\n",
    "similarity_df = pd.DataFrame(similarity_matrix, index=customers_df['CustomerID'], columns=customers_df['CustomerID'])\n",
    "\n"
   ]
  },
  {
   "cell_type": "code",
   "execution_count": 19,
   "id": "70d57a2c",
   "metadata": {},
   "outputs": [],
   "source": [
    "def get_top_lookalikes(similarity_df, top_n=3):\n",
    "    lookalikes = {}\n",
    "    for customer_id in similarity_df.index[:20]:  \n",
    "        similar_customers = similarity_df[customer_id].nlargest(top_n + 1) \n",
    "        similar_customers = similar_customers[similar_customers.index != customer_id] \n",
    "        lookalikes[customer_id] = [(similar_cust_id, score) for similar_cust_id, score in zip(similar_customers.index, similar_customers.values)]\n",
    "    return lookalikes\n",
    "\n",
    "lookalike_results = get_top_lookalikes(similarity_df)"
   ]
  },
  {
   "cell_type": "code",
   "execution_count": 20,
   "id": "69536ca3",
   "metadata": {},
   "outputs": [],
   "source": [
    "lookalike_list = []\n",
    "for cust_id, similar in lookalike_results.items():\n",
    "    lookalike_list.append({'CustomerID': cust_id, 'Lookalikes': similar})\n",
    "\n",
    "for entry in lookalike_list:\n",
    "    entry['Lookalikes'] = str(entry['Lookalikes'])\n",
    "\n",
    "lookalike_df = pd.DataFrame(lookalike_list)\n",
    "\n"
   ]
  },
  {
   "cell_type": "code",
   "execution_count": 21,
   "id": "022c9f95",
   "metadata": {},
   "outputs": [
    {
     "name": "stdout",
     "output_type": "stream",
     "text": [
      "\n",
      "Lookalike customers have been saved to Lookalike.csv.\n"
     ]
    }
   ],
   "source": [
    "lookalike_df.to_csv(r\"C:\\Users\\karth\\Downloads\\Lookalike.csv\", index=False)\n",
    "\n",
    "print(\"\\nLookalike customers have been saved to Lookalike.csv.\")"
   ]
  },
  {
   "cell_type": "code",
   "execution_count": null,
   "id": "04e556f6",
   "metadata": {},
   "outputs": [],
   "source": []
  }
 ],
 "metadata": {
  "kernelspec": {
   "display_name": "Python 3 (ipykernel)",
   "language": "python",
   "name": "python3"
  },
  "language_info": {
   "codemirror_mode": {
    "name": "ipython",
    "version": 3
   },
   "file_extension": ".py",
   "mimetype": "text/x-python",
   "name": "python",
   "nbconvert_exporter": "python",
   "pygments_lexer": "ipython3",
   "version": "3.11.3"
  }
 },
 "nbformat": 4,
 "nbformat_minor": 5
}
